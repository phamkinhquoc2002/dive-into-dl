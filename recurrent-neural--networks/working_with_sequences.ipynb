{
 "cells": [
  {
   "cell_type": "code",
   "execution_count": 1,
   "metadata": {},
   "outputs": [
    {
     "name": "stderr",
     "output_type": "stream",
     "text": [
      "There was a problem when trying to write in your cache folder (C:\\Users\\HP\\.cache\\huggingface\\hub). You should set the environment variable TRANSFORMERS_CACHE to a writable directory.\n"
     ]
    }
   ],
   "source": [
    "import collections\n",
    "import re\n",
    "import torch\n",
    "from d2l import torch as d2l"
   ]
  },
  {
   "cell_type": "code",
   "execution_count": 2,
   "metadata": {},
   "outputs": [],
   "source": [
    "class TimeMachine(d2l.DataModule):\n",
    "    \"\"\"The Time Machine dataset.\"\"\"\n",
    "    def _download(self):\n",
    "        fname = d2l.download(d2l.DATA_URL + 'timemachine.txt', self.root, \n",
    "                             '090b5e7e70c295757f55df93cb0a180b9691891a')\n",
    "        with open(fname) as f:\n",
    "            return f.read()\n",
    "@d2l.add_to_class(TimeMachine)\n",
    "\n",
    "def _preprocess(self, text):\n",
    "    return re.sub('[^A-Za-z]+', ' ', text).lower()\n",
    "\n",
    "@d2l.add_to_class(TimeMachine)\n",
    "def _tokenize(self, text):\n",
    "  return list(text)\n",
    "\n",
    "@d2l.add_to_class(TimeMachine)\n",
    "def build(self, raw_text, vocab = None):\n",
    "  tokens = self._tokenize(self._preprocess(raw_text))\n",
    "  if vocab is None: vocab = Vocab(tokens)\n",
    "  corpus = [vocab[token] for token in tokens]\n",
    "  return corpus, vocab\n",
    "\n",
    "class Vocab:\n",
    "  \"\"\"Vocab\"\"\"\n",
    "  def __init__(self, tokens = [], min_freq=0, reversed_tokens = []):\n",
    "    if tokens and isinstance(tokens[0], list):\n",
    "      tokens = [token for line in tokens for token in line]\n",
    "\n",
    "      #Count the frequencies\n",
    "    counter = collections.Counter(tokens)\n",
    "    self.token_freqs = sorted(counter.items(), key=lambda x: x[1], reverse = True)\n",
    "      #The list of unique tokens:\n",
    "    self.idx_to_token = list(sorted(set(['<unk>'] + reversed_tokens + [\n",
    "    token for token, freq in self.token_freqs if freq >= min_freq\n",
    "      ])))\n",
    "    self.token_to_idx = {token:idx\n",
    "                           for idx, token in enumerate(self.idx_to_token)}\n",
    "  def __len__(self):\n",
    "    return len(self.idx_to_token)\n",
    "  def __getitem__(self, tokens):\n",
    "    if not isinstance(tokens, (list, tuple)):\n",
    "      return self.token_to_idx.get(tokens, self.unk)\n",
    "    return [self.__getitem__(token) for token in tokens]\n",
    "  def to_tokens(self, indices):\n",
    "    if hasattr(indices, '__len__') and len(indices) > 1:\n",
    "      return [self.idx_to_token[int(index)] for index in indices]\n",
    "    return self.idx_to_token[indices]\n",
    "\n",
    "  @property\n",
    "  def unk(self):\n",
    "    return self.token_to_idx['<unk>']"
   ]
  }
 ],
 "metadata": {
  "kernelspec": {
   "display_name": "venv",
   "language": "python",
   "name": "python3"
  },
  "language_info": {
   "codemirror_mode": {
    "name": "ipython",
    "version": 3
   },
   "file_extension": ".py",
   "mimetype": "text/x-python",
   "name": "python",
   "nbconvert_exporter": "python",
   "pygments_lexer": "ipython3",
   "version": "3.11.6"
  }
 },
 "nbformat": 4,
 "nbformat_minor": 2
}
